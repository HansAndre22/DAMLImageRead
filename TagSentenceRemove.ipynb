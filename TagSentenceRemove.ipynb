{
  "nbformat": 4,
  "nbformat_minor": 0,
  "metadata": {
    "colab": {
      "provenance": []
    },
    "kernelspec": {
      "name": "python3",
      "display_name": "Python 3"
    },
    "language_info": {
      "name": "python"
    }
  },
  "cells": [
    {
      "cell_type": "code",
      "execution_count": null,
      "metadata": {
        "colab": {
          "base_uri": "https://localhost:8080/"
        },
        "id": "7gkEZIyvzWe7",
        "outputId": "b5a761c1-23d2-4491-f267-5fdfc9f3b166"
      },
      "outputs": [
        {
          "output_type": "stream",
          "name": "stdout",
          "text": [
            "Original sentence with HTML tags:\n",
            "<p>This is a <b>sample</b> sentence with <a href='#'>HTML tags</a>.<br>Let's remove them!</p>\n",
            "\n",
            "Cleaned sentence without HTML tags:\n",
            "This is a sample sentence with HTML tags.Let's remove them!\n"
          ]
        }
      ],
      "source": [
        "from bs4 import BeautifulSoup\n",
        "def remove_html_tags(sentence):\n",
        "  soup = BeautifulSoup(sentence, \"lxml\")\n",
        "  return soup.get_text()\n",
        "\n",
        "html_sentence = \"<p>This is a <b>sample</b> sentence with <a href='#'>HTML tags</a>.<br>Let's remove them!</p>\"\n",
        "clean_sentence = remove_html_tags(html_sentence)\n",
        "print(\"Original sentence with HTML tags:\")\n",
        "print(html_sentence)\n",
        "print(\"\\nCleaned sentence without HTML tags:\")\n",
        "print(clean_sentence)"
      ]
    }
  ]
}